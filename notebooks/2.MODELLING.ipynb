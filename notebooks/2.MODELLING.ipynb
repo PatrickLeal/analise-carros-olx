{
 "cells": [
  {
   "cell_type": "markdown",
   "metadata": {},
   "source": [
    "# **Previsão de preço de carros.**\n",
    "<!--\n",
    "<img src=\"https://miro.medium.com/v2/resize:fit:988/0*tA5OjppLK627FfFo\" alt=\"image\" width=\"250\" height=\"auto\">\n",
    "-->\n",
    "Nesse projeto eu vou construir um modelo de **Machine Learning** que faça a previsão  do preço de venda de um veículo.\n",
    "\n",
    "Irei utilizar a Metodologia **CRISP-DM** para me basear nos passos a serem seguinos no projeto.\n",
    "\n",
    "1. **Compreensão do Negócio (Business Understanding/Problem)** \n",
    "1. **Compreensão dos Dados (Data Understanding)** \n",
    "1. **Preparação dos Dados (Data Preparation)** \n",
    "1. **Exploração dos dados (EDA)**\n",
    "1. **Engenharia de features, Data Transformation e Pré-processamento**\n",
    "1. **Modelagem (Modeling)** \n",
    "1. **Avaliação (Evaluation)**\n",
    "1. **Conclusão e interpretação dos resultados.**\n",
    "1. **Implantação (Deployment)**"
   ]
  },
  {
   "cell_type": "markdown",
   "metadata": {},
   "source": [
    "### **Importando Bibliotecas**"
   ]
  },
  {
   "cell_type": "code",
   "execution_count": 47,
   "metadata": {},
   "outputs": [
    {
     "name": "stdout",
     "output_type": "stream",
     "text": [
      "The autoreload extension is already loaded. To reload it, use:\n",
      "  %reload_ext autoreload\n"
     ]
    }
   ],
   "source": [
    "# for auto-reloading external modules\n",
    "# see http://stackoverflow.com/questions/1907993/autoreload-of-modules-in-ipython\n",
    "%load_ext autoreload\n",
    "%autoreload 2"
   ]
  },
  {
   "cell_type": "code",
   "execution_count": 48,
   "metadata": {},
   "outputs": [
    {
     "name": "stdout",
     "output_type": "stream",
     "text": [
      "Versão da Linguagem Python: 3.12.5\n"
     ]
    }
   ],
   "source": [
    "from platform import python_version\n",
    "print('Versão da Linguagem Python:', python_version())"
   ]
  },
  {
   "cell_type": "code",
   "execution_count": 49,
   "metadata": {},
   "outputs": [],
   "source": [
    "import pandas as pd\n",
    "import numpy as np\n",
    "import matplotlib.pyplot as plt\n",
    "import matplotlib as mpl\n",
    "import seaborn as sns\n",
    "### Visualization Settings\n",
    "%matplotlib inline\n",
    "\n",
    "# Filter warnings.\n",
    "import warnings\n",
    "warnings.filterwarnings('ignore')\n",
    "\n",
    "mpl.style.use('ggplot') \n",
    "plt.style.use('meu_estilo.mplstyle')\n",
    "\n",
    "# Display options.\n",
    "# pd.set_option('display.max_rows', None)\n",
    "pd.set_option('display.max_info_rows', 100)\n",
    "pd.set_option('display.max_columns', None)\n",
    "pd.options.display.float_format = '{:.2f}'.format\n",
    "pd.set_option('display.width', 1000)"
   ]
  },
  {
   "cell_type": "markdown",
   "metadata": {},
   "source": [
    "### **Lendo Dataset**"
   ]
  },
  {
   "cell_type": "code",
   "execution_count": 50,
   "metadata": {},
   "outputs": [],
   "source": [
    "path = '../data_lake/silver/dados_veiculos_cleaned.csv'\n",
    "df = pd.read_csv(path)"
   ]
  },
  {
   "cell_type": "code",
   "execution_count": 51,
   "metadata": {},
   "outputs": [
    {
     "data": {
      "text/html": [
       "<div>\n",
       "<style scoped>\n",
       "    .dataframe tbody tr th:only-of-type {\n",
       "        vertical-align: middle;\n",
       "    }\n",
       "\n",
       "    .dataframe tbody tr th {\n",
       "        vertical-align: top;\n",
       "    }\n",
       "\n",
       "    .dataframe thead th {\n",
       "        text-align: right;\n",
       "    }\n",
       "</style>\n",
       "<table border=\"1\" class=\"dataframe\">\n",
       "  <thead>\n",
       "    <tr style=\"text-align: right;\">\n",
       "      <th></th>\n",
       "      <th>titulo</th>\n",
       "      <th>preco_brl</th>\n",
       "      <th>descricao</th>\n",
       "      <th>opcionais</th>\n",
       "      <th>cep</th>\n",
       "      <th>imagem</th>\n",
       "      <th>perfil_carro</th>\n",
       "      <th>data_publicacao</th>\n",
       "      <th>tempo_publicacao</th>\n",
       "      <th>cod_publicacao</th>\n",
       "      <th>quilometragem</th>\n",
       "      <th>possui_kit_gnv</th>\n",
       "      <th>tipo_de_veiculo</th>\n",
       "      <th>cambio</th>\n",
       "      <th>cor</th>\n",
       "      <th>tipo_de_direção</th>\n",
       "      <th>potencia_do_motor</th>\n",
       "      <th>portas</th>\n",
       "      <th>modelo</th>\n",
       "      <th>ano</th>\n",
       "      <th>marca</th>\n",
       "      <th>combustivel</th>\n",
       "      <th>qtd_opcionais</th>\n",
       "    </tr>\n",
       "  </thead>\n",
       "  <tbody>\n",
       "    <tr>\n",
       "      <th>8078</th>\n",
       "      <td>Hyundai Hb20 2022 1.0 12v flex evolution manual</td>\n",
       "      <td>66990</td>\n",
       "      <td>HYUNDAI HB20 1.0 12V FLEX EVOLUTION MANUAL - 2...</td>\n",
       "      <td>Alarme, Ar condicionado, Trava elétrica</td>\n",
       "      <td>8735200</td>\n",
       "      <td>https://img.olx.com.br/images/67/6784222027091...</td>\n",
       "      <td>https://sp.olx.com.br/sao-paulo-e-regiao/autos...</td>\n",
       "      <td>2024-09-13</td>\n",
       "      <td>10:48</td>\n",
       "      <td>1335307292</td>\n",
       "      <td>51684</td>\n",
       "      <td>Sim</td>\n",
       "      <td>Hatch</td>\n",
       "      <td>Manual</td>\n",
       "      <td>Prata</td>\n",
       "      <td>Elétrica</td>\n",
       "      <td>1.0</td>\n",
       "      <td>4</td>\n",
       "      <td>HYUNDAI HB20 EVOLUTION 1.0 FLEX 12V MEC</td>\n",
       "      <td>2022</td>\n",
       "      <td>HYUNDAI</td>\n",
       "      <td>Flex</td>\n",
       "      <td>3</td>\n",
       "    </tr>\n",
       "    <tr>\n",
       "      <th>21250</th>\n",
       "      <td>Gol g3 1.0 , 2005 flex</td>\n",
       "      <td>12000</td>\n",
       "      <td>Carro precisa de uns serviços como suspensão, ...</td>\n",
       "      <td>Ar condicionado, Alarme, Som</td>\n",
       "      <td>51160260</td>\n",
       "      <td>https://img.olx.com.br/images/59/5984824589864...</td>\n",
       "      <td>https://pe.olx.com.br/grande-recife/autos-e-pe...</td>\n",
       "      <td>2024-10-02</td>\n",
       "      <td>13:23</td>\n",
       "      <td>1342564157</td>\n",
       "      <td>190000</td>\n",
       "      <td>Não</td>\n",
       "      <td>Hatch</td>\n",
       "      <td>Manual</td>\n",
       "      <td>Cinza</td>\n",
       "      <td>Mecânica</td>\n",
       "      <td>1.0</td>\n",
       "      <td>4</td>\n",
       "      <td>VOLKSWAGEN GERAÇÃO III CITY 1.0 MI 8V TOTAL FL...</td>\n",
       "      <td>2005</td>\n",
       "      <td>VOLKSWAGEN</td>\n",
       "      <td>Flex</td>\n",
       "      <td>3</td>\n",
       "    </tr>\n",
       "    <tr>\n",
       "      <th>3323</th>\n",
       "      <td>Mitsubishi Eclipse cross 2023 1.5 mivec turbo ...</td>\n",
       "      <td>135090</td>\n",
       "      <td>MITSUBISHI ECLIPSE CROSS 1.5 MIVEC TURBO GASOL...</td>\n",
       "      <td>Ar condicionado</td>\n",
       "      <td>44050794</td>\n",
       "      <td>https://img.olx.com.br/images/26/2654327934004...</td>\n",
       "      <td>https://ba.olx.com.br/regiao-de-feira-de-santa...</td>\n",
       "      <td>2024-09-09</td>\n",
       "      <td>18:40</td>\n",
       "      <td>1299354570</td>\n",
       "      <td>43786</td>\n",
       "      <td>Não</td>\n",
       "      <td>SUV</td>\n",
       "      <td>Automático</td>\n",
       "      <td>Branco</td>\n",
       "      <td>Elétrica</td>\n",
       "      <td>1.5</td>\n",
       "      <td>4</td>\n",
       "      <td>MITSUBISHI HPE 1.5 16V 165CV AUT</td>\n",
       "      <td>2023</td>\n",
       "      <td>MITSUBISHI</td>\n",
       "      <td>Gasolina</td>\n",
       "      <td>1</td>\n",
       "    </tr>\n",
       "  </tbody>\n",
       "</table>\n",
       "</div>"
      ],
      "text/plain": [
       "                                                  titulo  preco_brl                                          descricao                                opcionais       cep                                             imagem                                       perfil_carro data_publicacao tempo_publicacao  cod_publicacao  quilometragem possui_kit_gnv tipo_de_veiculo      cambio     cor tipo_de_direção potencia_do_motor  portas                                             modelo   ano       marca combustivel  qtd_opcionais\n",
       "8078     Hyundai Hb20 2022 1.0 12v flex evolution manual      66990  HYUNDAI HB20 1.0 12V FLEX EVOLUTION MANUAL - 2...  Alarme, Ar condicionado, Trava elétrica   8735200  https://img.olx.com.br/images/67/6784222027091...  https://sp.olx.com.br/sao-paulo-e-regiao/autos...      2024-09-13            10:48      1335307292          51684            Sim           Hatch      Manual   Prata        Elétrica               1.0       4            HYUNDAI HB20 EVOLUTION 1.0 FLEX 12V MEC  2022     HYUNDAI        Flex              3\n",
       "21250                             Gol g3 1.0 , 2005 flex      12000  Carro precisa de uns serviços como suspensão, ...             Ar condicionado, Alarme, Som  51160260  https://img.olx.com.br/images/59/5984824589864...  https://pe.olx.com.br/grande-recife/autos-e-pe...      2024-10-02            13:23      1342564157         190000            Não           Hatch      Manual   Cinza        Mecânica               1.0       4  VOLKSWAGEN GERAÇÃO III CITY 1.0 MI 8V TOTAL FL...  2005  VOLKSWAGEN        Flex              3\n",
       "3323   Mitsubishi Eclipse cross 2023 1.5 mivec turbo ...     135090  MITSUBISHI ECLIPSE CROSS 1.5 MIVEC TURBO GASOL...                          Ar condicionado  44050794  https://img.olx.com.br/images/26/2654327934004...  https://ba.olx.com.br/regiao-de-feira-de-santa...      2024-09-09            18:40      1299354570          43786            Não             SUV  Automático  Branco        Elétrica               1.5       4                   MITSUBISHI HPE 1.5 16V 165CV AUT  2023  MITSUBISHI    Gasolina              1"
      ]
     },
     "execution_count": 51,
     "metadata": {},
     "output_type": "execute_result"
    }
   ],
   "source": [
    "df.sample(3)"
   ]
  },
  {
   "cell_type": "markdown",
   "metadata": {},
   "source": [
    "# **5. Engenharia de features, Data Transformation e Pré-processamento**"
   ]
  },
  {
   "cell_type": "markdown",
   "metadata": {},
   "source": [
    "Primeiramente irei resolver alguns problemas observados anteriormente na etapa `4. EDA`, como tratar outliers em algumas variáveis e também tratar veículos com **preços** de **0 R$** caso seja necessário."
   ]
  },
  {
   "cell_type": "markdown",
   "metadata": {},
   "source": [
    "## **Removendo Outliers**\n",
    "\n",
    "A técnica para idêntificação e remoção de outliers utilizada será o ***método de intervalo interquartil***. Eu decidi por **remover os Outliers** ao invés de **substituir** por outro valor porque mesmo após remoção ainda haverá uma boa quantidade de dados para serem utilizados."
   ]
  },
  {
   "cell_type": "code",
   "execution_count": 56,
   "metadata": {},
   "outputs": [],
   "source": [
    "def excluir_outliers(data, coluna):\n",
    "    q1 = data[coluna].quantile(0.25)\n",
    "    q3 = data[coluna].quantile(0.75)\n",
    "    iqr = q3 - q1\n",
    "    lower = q1 - 1.5 * iqr\n",
    "    upper = q3 + 1.5 * iqr\n",
    "\n",
    "    data = data.loc[(data[coluna] >= lower) & (data[coluna] <= upper), :]\n",
    "    return data"
   ]
  },
  {
   "cell_type": "markdown",
   "metadata": {},
   "source": [
    "Removendo Outliers das variáveis `quilometragem` e `preco_brl`."
   ]
  },
  {
   "cell_type": "code",
   "execution_count": 54,
   "metadata": {},
   "outputs": [
    {
     "name": "stdout",
     "output_type": "stream",
     "text": [
      "Foram removidas um total de 3263 linhas.\n"
     ]
    }
   ],
   "source": [
    "qtd_linhas = df.shape[0]\n",
    "df2 = excluir_outliers(df, coluna='quilometragem')\n",
    "df_s_outliers = excluir_outliers(df2, coluna='preco_brl')\n",
    "linhas_removidas = qtd_linhas - df_s_outliers.shape[0]\n",
    "print(f'Foram removidas um total de {linhas_removidas} linhas.')"
   ]
  }
 ],
 "metadata": {
  "kernelspec": {
   "display_name": "carros_analise",
   "language": "python",
   "name": "python3"
  },
  "language_info": {
   "codemirror_mode": {
    "name": "ipython",
    "version": 3
   },
   "file_extension": ".py",
   "mimetype": "text/x-python",
   "name": "python",
   "nbconvert_exporter": "python",
   "pygments_lexer": "ipython3",
   "version": "3.12.5"
  }
 },
 "nbformat": 4,
 "nbformat_minor": 2
}
